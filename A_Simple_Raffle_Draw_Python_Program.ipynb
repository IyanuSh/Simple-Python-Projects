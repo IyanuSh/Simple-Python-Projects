{
  "nbformat": 4,
  "nbformat_minor": 0,
  "metadata": {
    "colab": {
      "name": "A Simple Raffle Draw Python Program.ipynb",
      "provenance": []
    },
    "kernelspec": {
      "name": "python3",
      "display_name": "Python 3"
    },
    "language_info": {
      "name": "python"
    }
  },
  "cells": [
    {
      "cell_type": "markdown",
      "source": [
        "# **A Simple Raffle Draw Python Program**\n",
        "\n",
        "There are 15 cards in a raffle draw to be shared among 3 people - Ayo, Tunde & Ife. Using the Random Module for selection."
      ],
      "metadata": {
        "id": "8fzNU_00C_tA"
      }
    },
    {
      "cell_type": "code",
      "source": [
        "import random \n",
        "fifteen_cards = [2,3,4,3,1,1,2,4,1,3,4,5,3]"
      ],
      "metadata": {
        "id": "N44z4wLyDY_B"
      },
      "execution_count": 2,
      "outputs": []
    },
    {
      "cell_type": "markdown",
      "source": [
        "Create an empty list each for the given names"
      ],
      "metadata": {
        "id": "Ob9F-z3XDeej"
      }
    },
    {
      "cell_type": "code",
      "source": [
        "Ayo =[]\n",
        "Ife = []\n",
        "Tunde = []\n"
      ],
      "metadata": {
        "id": "VYumHvPcDf_h"
      },
      "execution_count": 3,
      "outputs": []
    },
    {
      "cell_type": "markdown",
      "source": [
        "Define a Function that selects a random card"
      ],
      "metadata": {
        "id": "ebVB8HlfD4Q7"
      }
    },
    {
      "cell_type": "code",
      "source": [
        "def raffle_draw():\n",
        "  \"\"\"returns a random card\"\"\"\n",
        "  draw = random.choice(fifteen_cards)\n",
        "  return draw"
      ],
      "metadata": {
        "id": "rDONkLo1DzSu"
      },
      "execution_count": null,
      "outputs": []
    },
    {
      "cell_type": "markdown",
      "source": [
        "Using For loop \n"
      ],
      "metadata": {
        "id": "uVm9QbMzFJpB"
      }
    },
    {
      "cell_type": "code",
      "source": [
        "\n",
        "for i in range(5):\n",
        "  Ayo.append(raffle_draw())\n",
        "  Ife.append(raffle_draw())\n",
        "  Tunde.append(raffle_draw())"
      ],
      "metadata": {
        "id": "nx7ucORGDzbR"
      },
      "execution_count": 4,
      "outputs": []
    },
    {
      "cell_type": "code",
      "source": [
        "print(f\"Ayo: {Ayo}\")\n",
        "print(f\"Tunde: {Tunde}\")\n",
        "print(f\"Ife: {Ife}\")\n"
      ],
      "metadata": {
        "colab": {
          "base_uri": "https://localhost:8080/"
        },
        "id": "3gDhzvcUDze6",
        "outputId": "ba37e896-3ebc-419b-b1f7-8a47bdb9e422"
      },
      "execution_count": 6,
      "outputs": [
        {
          "output_type": "stream",
          "name": "stdout",
          "text": [
            "Ayo: [2, 2, 4, 1, 1]\n",
            "Tunde: [3, 1, 5, 4, 3]\n",
            "Ife: [1, 2, 4, 3, 2]\n"
          ]
        }
      ]
    },
    {
      "cell_type": "code",
      "source": [
        "\n"
      ],
      "metadata": {
        "id": "nNbyH4sEGqtl"
      },
      "execution_count": null,
      "outputs": []
    }
  ]
}